{
 "cells": [
  {
   "cell_type": "code",
   "execution_count": 2,
   "id": "b32a73a6",
   "metadata": {},
   "outputs": [],
   "source": [
    "import matplotlib.pyplot as plt\n",
    "from matplotlib_venn import venn2"
   ]
  },
  {
   "cell_type": "markdown",
   "id": "f1ca85de",
   "metadata": {},
   "source": [
    "# Sets in Mathematics and Python\n",
    "\n",
    "Welcome to the **sets lesson**!\n",
    "\n",
    "After working through these notes you will be able to:\n",
    "1. Define sets and basic set-related terms in plain language.\n",
    "2. Create and manipulate sets in Python.\n",
    "3. Use Python to explore the standard set operations (union, intersection, difference, complement).\n",
    "4. Read and draw Venn diagrams to visualise set relationships."
   ]
  },
  {
   "cell_type": "markdown",
   "id": "fde70d63",
   "metadata": {},
   "source": [
    "## 1. Key Vocabulary\n",
    "\n",
    "| Term | Symbol | Plain-English meaning | Python keyword / operator |\n",
    "|------|--------|-----------------------|---------------------------|\n",
    "| Set | {1, 2, 3, ...} | A collection of distinct objects | `set()` or `{}` |\n",
    "| Element | ∈ | One member of a set | `in` |\n",
    "| Subset | ⊆ | Every element of one set is also in another | `<=` |\n",
    "| Proper subset | ⊂ | Subset that is *smaller* than the other set | `<` |\n",
    "| Superset | ⊇ | The “bigger” set that contains another set | `>=` |\n",
    "| Union | ∪ | All elements that are in **either** set | `\\|` |\n",
    "| Intersection | ∩ | Elements that are in **both** sets | `&` |\n",
    "| Difference | \\\\ | Elements in the first set **but not** the second | `-` |\n",
    "| Complement | Aᶜ | Elements **not** in a set (need a universal set) | custom |\n",
    "| Disjoint sets | $A \\cap B = \\emptyset$ | Two sets whose intersection is empty | `A & B == set()` |"
   ]
  },
  {
   "cell_type": "markdown",
   "id": "c124c15b",
   "metadata": {},
   "source": [
    "Some special sets in math:  \n",
    "\n",
    "* $\\mathbb{N}$: the set of **natural numbers**, positive or non-negative integers. \n",
    "* $\\mathbb{Z}$: the set of **integers**.\n",
    "* $\\mathbb{Q}$: set of **rational numbers**--anything that can be expressed as a fraction of integers. \n",
    "* $\\mathbb{R}$: set of **real numbers**. Any *continuous* number. For example, $\\sqrt{2}$ is continuous but not rational. \n",
    "* $\\mathbb{C}$: set of **complex numbers**. Extension of real numbers with imaginary units, $i$, such that $i^2 = -1$. For example, $(x+1)^2 = -9$ has no real solution but two complex solutions: $-1 + 3i$ and $-1 - 3i$. We won't go into this."
   ]
  },
  {
   "cell_type": "markdown",
   "id": "331ddf5c",
   "metadata": {},
   "source": [
    "![math_sets](https://upload.wikimedia.org/wikipedia/commons/c/cb/Number-systems_%28NZQRC%29.svg)"
   ]
  },
  {
   "cell_type": "markdown",
   "id": "8fa56434",
   "metadata": {},
   "source": [
    "## 2. Creating Sets in Python"
   ]
  },
  {
   "cell_type": "code",
   "execution_count": null,
   "id": "48aff29b",
   "metadata": {},
   "outputs": [],
   "source": [
    "# Two different ways to create exactly the same set\n",
    "primes_under_20 = {2, 3, 5, 7, 11, 13, 17, 19}\n",
    "evens_under_20  = set(range(0, 20, 2))\n",
    "print('Primes:', primes_under_20)\n",
    "print('Evens :', evens_under_20)"
   ]
  },
  {
   "cell_type": "markdown",
   "id": "55586a99",
   "metadata": {},
   "source": [
    "### 2.1 Subsets and Supersets"
   ]
  },
  {
   "cell_type": "code",
   "execution_count": null,
   "id": "1db5a264",
   "metadata": {},
   "outputs": [],
   "source": [
    "# ⊆ and ⊇ in Python\n",
    "print(primes_under_20 <= primes_under_20)  # every set is subset of itself\n",
    "print({2,3} < primes_under_20)             # proper subset\n",
    "print(primes_under_20 >= {2,3,5})          # superset test"
   ]
  },
  {
   "cell_type": "markdown",
   "id": "16468e5c",
   "metadata": {},
   "source": [
    "## 3. Union, Intersection, and Difference"
   ]
  },
  {
   "cell_type": "code",
   "execution_count": null,
   "id": "f277ba65",
   "metadata": {},
   "outputs": [],
   "source": [
    "union_set = primes_under_20 | evens_under_20\n",
    "inter_set = primes_under_20 & evens_under_20\n",
    "diff_set  = evens_under_20 - primes_under_20\n",
    "print('Union       :', union_set)\n",
    "print('Intersection:', inter_set)\n",
    "print('Difference  :', diff_set)"
   ]
  },
  {
   "cell_type": "markdown",
   "id": "52d45bd1",
   "metadata": {},
   "source": [
    "### 3.1 Complements (with a universal set)"
   ]
  },
  {
   "cell_type": "code",
   "execution_count": null,
   "id": "fb33e83f",
   "metadata": {},
   "outputs": [],
   "source": [
    "U = set(range(1, 21))  # universal set for this example (numbers 1–20)\n",
    "comp_primes = U - primes_under_20\n",
    "print(sorted(comp_primes))"
   ]
  },
  {
   "cell_type": "markdown",
   "id": "e5b1ef37",
   "metadata": {},
   "source": [
    "## 4. Visualising Sets with a Venn Diagram\n",
    "Change A and B such that:\n",
    "1. They have 2 elements in their intersection\n",
    "2. They are disjoint ($A \\cap B = \\emptyset$)\n",
    "3. B is a superset of A ($B \\supset A$)\n"
   ]
  },
  {
   "cell_type": "code",
   "execution_count": 9,
   "id": "124b242f",
   "metadata": {},
   "outputs": [
    {
     "data": {
      "image/png": "[encoded data removed]",
      "text/plain": [
       "<Figure size 400x400 with 1 Axes>"
      ]
     },
     "metadata": {},
     "output_type": "display_data"
    }
   ],
   "source": [
    "A = {1, 2}\n",
    "B = {2, 3}\n",
    "plt.figure(figsize=(4,4))\n",
    "venn2([A, B], set_labels=('A','B'))\n",
    "plt.title('Venn Diagram of A and B')\n",
    "plt.show()\n",
    "# note that the numbers refer to how many elements each area has"
   ]
  },
  {
   "cell_type": "markdown",
   "id": "f78250dc",
   "metadata": {},
   "source": [
    "## 5. Your Turn — Exercises\n",
    "\n",
    "Try each task below in a **new code cell**.\n",
    "\n",
    "1. **Prime vs. Square Numbers**  \n",
    "   Create two sets: all prime numbers ≤ 50 and all perfect squares ≤ 50.\n",
    "*  Print the intersection and union.  \n",
    "*  Which numbers are squares but *not* primes?"
   ]
  },
  {
   "cell_type": "code",
   "execution_count": null,
   "id": "d9184f94",
   "metadata": {},
   "outputs": [],
   "source": [
    "# Q1 here"
   ]
  },
  {
   "cell_type": "markdown",
   "id": "a981200d",
   "metadata": {},
   "source": [
    "2. **Class Survey**  \n",
    "   Your class of 15 students gave the following answers to a snack survey:  \n",
    "\n",
    "```python\n",
    "likes_chickennuggets = {'Ana','Benno','Chaddalac','Danana','Eric','Fark','Gusto','Hani', 'Tim'}\n",
    "likes_chickenfingers    = {'Benno','Chaddalac','Ivan','Jade','Kyle','Leo','Mia', 'Tim'}  \n",
    "```    \n",
    "\n",
    "* Who likes **both**?  \n",
    "* How many students like **neither**? (Hint: define the universal set of all students.)"
   ]
  },
  {
   "cell_type": "code",
   "execution_count": null,
   "id": "4115e106",
   "metadata": {},
   "outputs": [],
   "source": [
    "# Q2 here"
   ]
  },
  {
   "cell_type": "markdown",
   "id": "20db74f4",
   "metadata": {},
   "source": [
    "3. **Random Set Generator**  \n",
    "   Use Python’s `random` module to generate two sets of 6 random integers from 1–49.\n",
    "* Print both sets and their intersection.  \n",
    "* Repeat until the intersection is not empty. How many tries did it take?"
   ]
  },
  {
   "cell_type": "code",
   "execution_count": 2,
   "id": "0ad4d878",
   "metadata": {},
   "outputs": [
    {
     "data": {
      "text/plain": [
       "2"
      ]
     },
     "execution_count": 2,
     "metadata": {},
     "output_type": "execute_result"
    }
   ],
   "source": [
    "from random import randint\n",
    "randint(1, 49)"
   ]
  },
  {
   "cell_type": "markdown",
   "id": "30f7119c",
   "metadata": {},
   "source": [
    "4. **Challenge**  \n",
    "   Use a loop to list *all* 2-element subsets of `{1,2,3,4}`. How many are there? What are they?"
   ]
  },
  {
   "cell_type": "code",
   "execution_count": 5,
   "id": "a7d0a53c",
   "metadata": {},
   "outputs": [],
   "source": [
    "# fill in your code here"
   ]
  },
  {
   "cell_type": "markdown",
   "id": "26f8ca78",
   "metadata": {},
   "source": [
    "Finding how many in Question 4 is also described in combinatorics as $n$ choose $k$ with the following equation:  \n",
    "![comb](https://i.sstatic.net/KmC1gm.jpg)  \n",
    "\n",
    "It's available in python through the `math` module\n",
    "```python\n",
    "from math import comb\n",
    "```"
   ]
  }
 ],
 "metadata": {
  "kernelspec": {
   "display_name": "3.10.4",
   "language": "python",
   "name": "python3"
  },
  "language_info": {
   "codemirror_mode": {
    "name": "ipython",
    "version": 3
   },
   "file_extension": ".py",
   "mimetype": "text/x-python",
   "name": "python",
   "nbconvert_exporter": "python",
   "pygments_lexer": "ipython3",
   "version": "3.10.4"
  }
 },
 "nbformat": 4,
 "nbformat_minor": 5
}
