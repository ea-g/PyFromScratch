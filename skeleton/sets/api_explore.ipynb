{
 "cells": [
  {
   "cell_type": "markdown",
   "id": "ca49874d",
   "metadata": {},
   "source": [
    "# Validating words\n",
    "We'll use an API (aplication program interface) through wikitionary or dictionaryapi to validate our answers as real words.  \n",
    "\n",
    "An API (which stands for Application Programming Interface) is like a waiter in a restaurant—but for computers! Imagine you’re at a table ordering food, but you don’t go into the kitchen yourself. Instead, you tell the waiter what you want, and they take your request to the kitchen. Then, the cook prepares your food and the waiter brings it back.\n",
    "\n",
    "In the world of computers, APIs work the same way:   \n",
    "* You (your app or device) ask for something (like weather data or a game score).  \n",
    "* API (the waiter) sends your request to another computer or service.\n",
    "* The other computer (the kitchen) finds the answer and gives it back to the API.  \n",
    "* API then brings the answer back to you!\n",
    "\n",
    "This lets different programs and apps talk and share information, even if they’re built differently—just like you and the kitchen don’t have to talk directly, but the waiter makes communication easy."
   ]
  },
  {
   "cell_type": "markdown",
   "id": "346eff06",
   "metadata": {},
   "source": [
    "![image](https://media2.giphy.com/media/v1.Y2lkPTc5MGI3NjExMG45cmpjMnFlYWpkN2NmMndiZnAwbHZodXp0bnJqNmZyYzZ2Zm04ZyZlcD12MV9pbnRlcm5hbF9naWZfYnlfaWQmY3Q9Zw/uhYKP2f4xRz7q/giphy.gif)"
   ]
  },
  {
   "cell_type": "markdown",
   "id": "794dc673",
   "metadata": {},
   "source": [
    "# DictionaryAPI\n",
    "\n",
    "Let's take a look first at dictionaryapi. We can use the python `requests` library to send our api commands.\n",
    "\n",
    "## Get word definitions\n",
    "\n",
    "Usage : The basic syntax of a URL request to the API is shown below:\n",
    "\n",
    "`https://api.dictionaryapi.dev/api/v2/entries/en/<word>`\n",
    "\n",
    "As an example, to get definition of English word hello, you can send request to\n",
    "\n",
    "`https://api.dictionaryapi.dev/api/v2/entries/en/hello`\n",
    "\n",
    "```powershell\n",
    "  [\n",
    "    {\n",
    "      \"word\": \"hello\",\n",
    "      \"phonetic\": \"həˈləʊ\",\n",
    "      \"phonetics\": [\n",
    "        {\n",
    "          \"text\": \"həˈləʊ\",\n",
    "          \"audio\": \"//ssl.gstatic.com/dictionary/static/sounds/20200429/hello--_gb_1.mp3\"\n",
    "        },\n",
    "        {\n",
    "          \"text\": \"hɛˈləʊ\"\n",
    "        }\n",
    "      ],\n",
    "      \"origin\": \"early 19th century: variant of earlier hollo ; related to holla.\",\n",
    "      \"meanings\": [\n",
    "        {\n",
    "          \"partOfSpeech\": \"exclamation\",\n",
    "          \"definitions\": [\n",
    "            {\n",
    "              \"definition\": \"used as a greeting or to begin a phone conversation.\",\n",
    "              \"example\": \"hello there, Katie!\",\n",
    "              \"synonyms\": [],\n",
    "              \"antonyms\": []\n",
    "            }\n",
    "          ]\n",
    "        },\n",
    "        {\n",
    "          \"partOfSpeech\": \"noun\",\n",
    "          \"definitions\": [\n",
    "            {\n",
    "              \"definition\": \"an utterance of ‘hello’; a greeting.\",\n",
    "              \"example\": \"she was getting polite nods and hellos from people\",\n",
    "              \"synonyms\": [],\n",
    "              \"antonyms\": []\n",
    "            }\n",
    "          ]\n",
    "        },\n",
    "        {\n",
    "          \"partOfSpeech\": \"verb\",\n",
    "          \"definitions\": [\n",
    "            {\n",
    "              \"definition\": \"say or shout ‘hello’.\",\n",
    "              \"example\": \"I pressed the phone button and helloed\",\n",
    "              \"synonyms\": [],\n",
    "              \"antonyms\": []\n",
    "            }\n",
    "          ]\n",
    "        }\n",
    "      ]\n",
    "    }\n",
    "  ]\n",
    "```\n"
   ]
  },
  {
   "cell_type": "code",
   "execution_count": null,
   "id": "b79c65aa",
   "metadata": {},
   "outputs": [],
   "source": [
    "# give it a try\n",
    "import requests\n",
    "word = \"\" # fill me in, try some real and nonexistent words\n",
    "url = f\"https://api.dictionaryapi.dev/api/v2/entries/en/{word}\"\n",
    "\n",
    "response = requests.get(url, timeout=3)"
   ]
  },
  {
   "cell_type": "code",
   "execution_count": null,
   "id": "17162047",
   "metadata": {},
   "outputs": [],
   "source": [
    "# look at your response and try to access different parts"
   ]
  },
  {
   "cell_type": "code",
   "execution_count": null,
   "id": "0e8da911",
   "metadata": {},
   "outputs": [],
   "source": [
    "# try out the wikitionary api\n",
    "word = \"\" # fill me in, try real, nonexistent, and words in different languages\n",
    "prefix = \"https://en.wiktionary.org/api/rest_v1/page/definition/\"\n",
    "suffix = \"?redirect=false\"\n",
    "\n",
    "response = requests.get(prefix + word + suffix, timeout=3)"
   ]
  },
  {
   "cell_type": "code",
   "execution_count": null,
   "id": "e820778d",
   "metadata": {},
   "outputs": [],
   "source": [
    "# check out the response here"
   ]
  }
 ],
 "metadata": {
  "language_info": {
   "name": "python"
  }
 },
 "nbformat": 4,
 "nbformat_minor": 5
}
