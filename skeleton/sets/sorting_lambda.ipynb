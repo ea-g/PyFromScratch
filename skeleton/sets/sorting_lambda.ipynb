{
 "cells": [
  {
   "cell_type": "markdown",
   "id": "7c109fe4",
   "metadata": {},
   "source": [
    "# Sorting and Anonymous (Lambda) Functions in Python\n",
    "In Python, the easiest way to sort is to use the built-in **list** method `.sort()` or the function `sorted()`."
   ]
  },
  {
   "cell_type": "code",
   "execution_count": null,
   "id": "4d32aaea",
   "metadata": {},
   "outputs": [],
   "source": [
    "# Sorting numbers\n",
    "nums = [5, 2, 9, 1, 5, 6]\n",
    "nums_sorted_copy = sorted(nums)  # makes a new sorted list\n",
    "print(\"Original:\", nums)\n",
    "print(\"Sorted copy:\", nums_sorted_copy)\n",
    "\n",
    "# Sorting in place (changes the original list)\n",
    "nums.sort()\n",
    "print(\"After .sort():\", nums)\n",
    "\n",
    "# Sorting strings (alphabetical)\n",
    "words = [\"banana\", \"apple\", \"cherry\", \"date\"]\n",
    "print(sorted(words)) # ['apple', 'banana', 'cherry', 'date']\n"
   ]
  },
  {
   "cell_type": "markdown",
   "id": "0ca4246f",
   "metadata": {},
   "source": [
    "## `sorted()` vs. `.sort()`\n",
    "* `sorted(sequence)` makes a **new list** and leaves the original as-is.  \n",
    "* list`.sort()` changes the list **in place** and `returns None`"
   ]
  },
  {
   "cell_type": "code",
   "execution_count": null,
   "id": "11cf279b",
   "metadata": {},
   "outputs": [],
   "source": [
    "nums = [3, 1, 4, 1, 5, 9]\n",
    "print(sorted(nums, reverse=True))  # largest to smallest"
   ]
  },
  {
   "cell_type": "markdown",
   "id": "42c53d00",
   "metadata": {},
   "source": [
    "## Lambda functions\n",
    "A lambda is a small, \"anonymous\" function written in one line. We call it anonymous because it isn't bound to a name when it's defined (though we can assign it to a variable afterwards). \"Lambda\" ($\\lambda$), comes from math (calculus) terminology for nameless functions. It can take inputs and returns the value of its single expression. It’s often used as a short, one-time helper—especially for sorting. "
   ]
  },
  {
   "cell_type": "code",
   "execution_count": null,
   "id": "e46c180b",
   "metadata": {},
   "outputs": [],
   "source": [
    "# A normal function\n",
    "def double(x):\n",
    "    return x * 2\n",
    "\n",
    "# A lambda that does the same thing, note that the linter might underline this \n",
    "# since normally you wouldn't assign a variable to an anonymous function\n",
    "double_lambda = lambda x: x * 2\n",
    "\n",
    "print(double(6))         # 12\n",
    "print(double_lambda(6))  # 12\n",
    "\n",
    "# useful for defining a function quickly inside of other function calls \n",
    "z = [5, 6, 7]\n",
    "print(list(map(lambda x: x**2 + 3, z)))"
   ]
  },
  {
   "cell_type": "markdown",
   "id": "56e148b3",
   "metadata": {},
   "source": [
    "This last part is useful for combining with `sorted()`'s `key` parameter. Sorting can be customized with a key= function that tells Python what to look at when comparing items.\n",
    "\n",
    "**What do each of the following do?**"
   ]
  },
  {
   "cell_type": "code",
   "execution_count": null,
   "id": "db846944",
   "metadata": {},
   "outputs": [],
   "source": [
    "words = [\"cat\", \"elephant\", \"bee\", \"dog\"]\n",
    "print(sorted(words, key=lambda w: len(w)))  "
   ]
  },
  {
   "cell_type": "code",
   "execution_count": null,
   "id": "7d8cad08",
   "metadata": {},
   "outputs": [],
   "source": [
    "nums = [23, 45, 12, 67, 34, 1001]\n",
    "print(sorted(nums, key=lambda n: n % 10))"
   ]
  },
  {
   "cell_type": "code",
   "execution_count": null,
   "id": "a12d4f9c",
   "metadata": {},
   "outputs": [],
   "source": [
    "pairs = [(\"Anna\", 3), (\"Bob\", 2), (\"Cara\", 5), (\"Dan\", 1)]\n",
    "print(sorted(pairs, key=lambda p: p[1]))"
   ]
  },
  {
   "cell_type": "markdown",
   "id": "ccfb705f",
   "metadata": {},
   "source": [
    "## Exercises"
   ]
  },
  {
   "cell_type": "markdown",
   "id": "ddaa018c",
   "metadata": {},
   "source": [
    "### top 3 longest words\n",
    "Given a list of words, print the three longest words from longest to shortest. If two words have the same length, alphabetical order should decide among them. Hint: sort by two keys: first length (descending), then the word (ascending). "
   ]
  },
  {
   "cell_type": "code",
   "execution_count": null,
   "id": "e46a8b06",
   "metadata": {},
   "outputs": [],
   "source": [
    "words = [\"kiwi\", \"strawberry\", \"fig\", \"pineapple\", \"grape\", \"banana\", \"pear\"]\n",
    "# Do something here\n",
    "sorted_words = None\n",
    "\n",
    "# expected: ['strawberry', 'pineapple', 'banana'] based on length and tie-break\n",
    "top3 = sorted_words[:3]\n",
    "print(top3)"
   ]
  },
  {
   "cell_type": "markdown",
   "id": "d9de1a73",
   "metadata": {},
   "source": [
    "###  Sort by last letter, then by length\n",
    "Given names, sort them by their last letter A→Z. If two names share the same last letter, shorter names come first. Print the result\n",
    "\n"
   ]
  },
  {
   "cell_type": "code",
   "execution_count": null,
   "id": "186b6196",
   "metadata": {},
   "outputs": [],
   "source": [
    "names = [\"Liam\", \"Olivia\", \"Noah\", \"Emma\", \"Ava\", \"Sophia\", \"Isabella\"]\n",
    "\n",
    "# Do something here\n",
    "sorted_names = None\n",
    "\n",
    "# show results\n",
    "print(sorted_names)"
   ]
  }
 ],
 "metadata": {
  "kernelspec": {
   "display_name": "pyfromscratch",
   "language": "python",
   "name": "python3"
  },
  "language_info": {
   "codemirror_mode": {
    "name": "ipython",
    "version": 3
   },
   "file_extension": ".py",
   "mimetype": "text/x-python",
   "name": "python",
   "nbconvert_exporter": "python",
   "pygments_lexer": "ipython3",
   "version": "3.10.4"
  }
 },
 "nbformat": 4,
 "nbformat_minor": 5
}
