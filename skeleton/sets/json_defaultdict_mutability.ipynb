{
 "cells": [
  {
   "cell_type": "markdown",
   "id": "a65bb970",
   "metadata": {},
   "source": [
    "\n",
    "# Python Fun With Data\n",
    "\n",
    "Welcome! In this hands-on notebook you will:\n",
    "\n",
    "1. Parse and create **JSON** data.\n",
    "2. Tame tricky keys with **`defaultdict`**.\n",
    "3. Discover which Python objects are **mutable** and which are not.\n",
    "\n",
    "You’ll try short coding challenges and see colorful charts drawn by Python.  \n",
    "Grab the keyboard and experiment as you go!\n"
   ]
  },
  {
   "cell_type": "markdown",
   "id": "b24769f7",
   "metadata": {},
   "source": [
    "\n",
    "## 1️⃣ JSON: JavaScript Object Notation\n",
    "JSON is a text format for storing data. It's very common across the internet and convenient for organization. It looks a lot like a Python dictionary but **every key and string uses double quotes**.\n",
    "\n",
    "Below is a JSON string.  Run the cell to turn it into a Python object and back again.\n"
   ]
  },
  {
   "cell_type": "code",
   "execution_count": 1,
   "id": "821c290b",
   "metadata": {},
   "outputs": [
    {
     "name": "stdout",
     "output_type": "stream",
     "text": [
      "Python object: {'name': 'Alex', 'age': 13, 'subjects': ['Math', 'Science']}\n",
      "JSON again: {\n",
      "  \"name\": \"Alex\",\n",
      "  \"age\": 14,\n",
      "  \"subjects\": [\n",
      "    \"Math\",\n",
      "    \"Science\"\n",
      "  ]\n",
      "}\n"
     ]
    }
   ],
   "source": [
    "\n",
    "import json\n",
    "\n",
    "json_text = '{\"name\": \"Alex\", \"age\": 13, \"subjects\": [\"Math\", \"Science\"]}'\n",
    "\n",
    "# JSON ➡️ Python\n",
    "student = json.loads(json_text)\n",
    "print(\"Python object:\", student)\n",
    "\n",
    "# Change Python ➡️ JSON\n",
    "student[\"age\"] += 1\n",
    "print(\"JSON again:\", json.dumps(student, indent=2))\n"
   ]
  },
  {
   "cell_type": "markdown",
   "id": "34b909dc",
   "metadata": {},
   "source": [
    "\n",
    "**Try it yourself**  \n",
    "1. Make your own JSON string with your name and three favorite foods.  \n",
    "2. Convert it to a Python object with `json.loads()`.  \n",
    "3. Add another food, then convert it back with `json.dumps()`.\n"
   ]
  },
  {
   "cell_type": "code",
   "execution_count": null,
   "id": "0438b6a5",
   "metadata": {},
   "outputs": [],
   "source": [
    "# make a json here"
   ]
  },
  {
   "cell_type": "markdown",
   "id": "4074338f",
   "metadata": {},
   "source": [
    "\n",
    "## 2️⃣ `defaultdict`: Dictionaries on Easy Mode\n",
    "A normal dictionary complains with a **`KeyError`** if you ask for a missing key.  \n",
    "A `defaultdict` fixes that by **creating a default value automatically**.\n"
   ]
  },
  {
   "cell_type": "code",
   "execution_count": null,
   "id": "9d1d5e96",
   "metadata": {},
   "outputs": [
    {
     "ename": "KeyError",
     "evalue": "'b'",
     "output_type": "error",
     "traceback": [
      "\u001b[1;31m---------------------------------------------------------------------------\u001b[0m",
      "\u001b[1;31mKeyError\u001b[0m                                  Traceback (most recent call last)",
      "Cell \u001b[1;32mIn[4], line 9\u001b[0m\n\u001b[0;32m      6\u001b[0m counts \u001b[38;5;241m=\u001b[39m {}\n\u001b[0;32m      7\u001b[0m \u001b[38;5;28;01mfor\u001b[39;00m ch \u001b[38;5;129;01min\u001b[39;00m word:\n\u001b[0;32m      8\u001b[0m     \u001b[38;5;66;03m# TODO: modify counts[ch] on the right side to counts.get(ch, 0)\u001b[39;00m\n\u001b[1;32m----> 9\u001b[0m     counts[ch] \u001b[38;5;241m=\u001b[39m \u001b[43mcounts\u001b[49m\u001b[43m[\u001b[49m\u001b[43mch\u001b[49m\u001b[43m]\u001b[49m \u001b[38;5;241m+\u001b[39m \u001b[38;5;241m1\u001b[39m \n\u001b[0;32m     10\u001b[0m \u001b[38;5;28mprint\u001b[39m(\u001b[38;5;124m\"\u001b[39m\u001b[38;5;124mRegular dict:\u001b[39m\u001b[38;5;124m\"\u001b[39m, counts)\n\u001b[0;32m     12\u001b[0m \u001b[38;5;66;03m# defaultdict counting (simple)\u001b[39;00m\n",
      "\u001b[1;31mKeyError\u001b[0m: 'b'"
     ]
    }
   ],
   "source": [
    "# On first run, you'll get an error!\n",
    "from collections import defaultdict\n",
    "\n",
    "word = \"balloon\"\n",
    "\n",
    "# Regular dict counting (verbose)\n",
    "counts = {}\n",
    "for ch in word:\n",
    "    # TODO: modify the line to counts[ch] = counts.get(ch, 0) + 1 to fix (we need a default value!)\n",
    "    counts[ch] += 1 \n",
    "print(\"Regular dict:\", counts)\n",
    "\n",
    "# defaultdict counting (simple)\n",
    "counts_dd = defaultdict(int)\n",
    "for ch in word:\n",
    "    counts_dd[ch] += 1\n",
    "print(\"defaultdict :\", dict(counts_dd))\n"
   ]
  },
  {
   "cell_type": "markdown",
   "id": "3c8113d4",
   "metadata": {},
   "source": [
    "\n",
    "**Challenge**  \n",
    "Ask the user for a sentence and print how many times each word appears.  \n",
    "Hint: start with `defaultdict(int)`.\n"
   ]
  },
  {
   "cell_type": "code",
   "execution_count": null,
   "id": "cae085e8",
   "metadata": {},
   "outputs": [],
   "source": [
    "# your code here"
   ]
  },
  {
   "cell_type": "markdown",
   "id": "2c9a597a",
   "metadata": {},
   "source": [
    "\n",
    "## 3️⃣ Mutability: Can It Change?\n",
    "* **Mutable** objects can be updated in place (lists, dicts, sets).  \n",
    "* **Immutable** objects cannot change once created (ints, floats, strings, tuples).\n",
    "\n",
    "**Purpose of mutability:**  \n",
    "* It lets you update, grow, or change your data directly, which is useful when you want to keep and update things like lists and dictionaries as your program runs.   \n",
    "* Changes to mutable objects affect the original object everywhere it’s used, so you only work with one copy (which can be both powerful and something to watch out for).\n",
    "* **Immutability** is useful when you need to guarantee the data won’t change, which can help you avoid bugs.\n",
    "\n",
    "Let’s test it with `id()`—a unique number for every object in memory.\n"
   ]
  },
  {
   "cell_type": "code",
   "execution_count": null,
   "id": "3882e577",
   "metadata": {},
   "outputs": [
    {
     "name": "stdout",
     "output_type": "stream",
     "text": [
      "id(a) -> 2561444938096\n",
      "id(a) after change -> 2561444938160\n",
      "id(nums) -> 2561849822976\n",
      "id(nums) after change -> 2561849822976\n"
     ]
    }
   ],
   "source": [
    "# Immutable example\n",
    "a = 5\n",
    "print(\"id(a) ->\", id(a))\n",
    "a += 2\n",
    "print(\"id(a) after change ->\", id(a))  # different id => new object\n",
    "\n",
    "# Mutable example\n",
    "nums = [1,2,3]\n",
    "print(\"id(nums) ->\", id(nums))\n",
    "nums.append(4)\n",
    "print(\"id(nums) after change ->\", id(nums))  # same id => modified\n"
   ]
  },
  {
   "cell_type": "markdown",
   "id": "f9855b05",
   "metadata": {},
   "source": [
    "\n",
    "**Try it**  \n",
    "1. Make a tuple and try `my_tuple[0] = 9`. What happens?  \n",
    "2. Make a dictionary, record its `id()`, add a key, and check `id()` again.\n"
   ]
  },
  {
   "cell_type": "code",
   "execution_count": null,
   "id": "2a8166b2",
   "metadata": {},
   "outputs": [],
   "source": [
    "# your code here\n"
   ]
  },
  {
   "cell_type": "markdown",
   "id": "2db26ef4",
   "metadata": {},
   "source": [
    "**Can dictionary keys be mutable?** What do you think? Test it below to find the answer. "
   ]
  },
  {
   "cell_type": "code",
   "execution_count": 8,
   "id": "63884936",
   "metadata": {},
   "outputs": [],
   "source": [
    "# your code here\n",
    "test_d = dict(a=1, tim={'english', 'russian', 'spanish'}, leo={'french', 'english', 'japanese', 'dutch?'})\n",
    "\n",
    "# try adding a mutable key to the dictionary"
   ]
  },
  {
   "cell_type": "markdown",
   "id": "02688cc4",
   "metadata": {},
   "source": [
    "\n",
    "## 🚀 Mini-Project: Class Score Analyzer\n",
    "\n",
    "1. Run the next cell to generate a file called **`class_scores.json`**.  \n",
    "2. Use `json.load()` to read the data.  \n",
    "3. Use `defaultdict(list)` to collect all scores for each subject.  \n",
    "4. Compute averages and plot a bar chart of class averages.\n"
   ]
  },
  {
   "cell_type": "code",
   "execution_count": null,
   "id": "ceba1d7c",
   "metadata": {},
   "outputs": [],
   "source": [
    "\n",
    "import json, random, string, matplotlib.pyplot as plt\n",
    "from collections import defaultdict\n",
    "\n",
    "# Create fake class data\n",
    "subjects = [\"Math\", \"Science\", \"English\", \"History\"]\n",
    "class_data = []\n",
    "for _ in range(10):\n",
    "    student = {\n",
    "        \"name\": \"Student \" + random.choice(string.ascii_uppercase),\n",
    "        \"scores\": {sub: random.randint(60, 100) for sub in subjects}\n",
    "    }\n",
    "    class_data.append(student)\n",
    "\n",
    "# Save to JSON file\n",
    "with open(\"class_scores.json\", \"w\") as f:\n",
    "    json.dump(class_data, f, indent=2)\n",
    "\n",
    "print(\"Created class_scores.json with\", len(class_data), \"students!\")\n"
   ]
  },
  {
   "cell_type": "markdown",
   "id": "2080cbcb",
   "metadata": {},
   "source": [
    "\n",
    "---\n",
    "### 🎉 Great job!\n",
    "* **JSON** lets programs share data in a friendly text format.  \n",
    "* **`defaultdict`** makes counting and grouping a snap.  \n",
    "* **Mutability** explains why some objects change and others don’t.  \n",
    "\n",
    "Keep experimenting—Python rewards curiosity!\n"
   ]
  }
 ],
 "metadata": {
  "kernelspec": {
   "display_name": "pyfromscratch",
   "language": "python",
   "name": "python3"
  },
  "language_info": {
   "codemirror_mode": {
    "name": "ipython",
    "version": 3
   },
   "file_extension": ".py",
   "mimetype": "text/x-python",
   "name": "python",
   "nbconvert_exporter": "python",
   "pygments_lexer": "ipython3",
   "version": "3.10.4"
  }
 },
 "nbformat": 4,
 "nbformat_minor": 5
}
