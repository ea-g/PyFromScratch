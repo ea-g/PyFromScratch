{
 "cells": [
  {
   "cell_type": "markdown",
   "id": "702653a4",
   "metadata": {},
   "source": [
    "# Intro \n",
    "What is a string?\n",
    "\n",
    "- A string is a sequence of characters wrapped in quotes, like \"Python\" or 'hi'.\n",
    "- Strings have many built-in methods, such as .upper(), .lower(), .find(), .replace(), and .split().\n",
    "- String methods return new strings and do not change the original text--**strings are immutable**. "
   ]
  },
  {
   "cell_type": "code",
   "execution_count": 1,
   "id": "54d5e7ca",
   "metadata": {},
   "outputs": [
    {
     "name": "stdout",
     "output_type": "stream",
     "text": [
      "Hello Hello\n",
      "She said, \"Let's learn Python!\"\n",
      "Roses are red,\n",
      "Violets are blue,\n",
      "Strings are fun,\n",
      "And so are you!\n"
     ]
    }
   ],
   "source": [
    "# Single or double quotes both work\n",
    "\n",
    "greeting1 = \"Hello\"\n",
    "greeting2 = 'Hello'\n",
    "print(greeting1, greeting2)\n",
    "\n",
    "# Including quotes with escaping\n",
    "\n",
    "quote = \"She said, \\\"Let's learn Python!\\\"\"\n",
    "print(quote)\n",
    "\n",
    "# Multi-line strings\n",
    "\n",
    "poem = \"\"\"Roses are red,\n",
    "Violets are blue,\n",
    "Strings are fun,\n",
    "And so are you!\"\"\"\n",
    "print(poem)\n"
   ]
  },
  {
   "cell_type": "markdown",
   "id": "31c1c4ea",
   "metadata": {},
   "source": [
    "## Indexing and slicing\n",
    "We can access parts of a string just like a list. For example, if a string is stored in variable `s` then `s[0]` gets the first letter and `s[0:3]` gets the first 3 letters.\n",
    "\n",
    "**slicing**:\n",
    "* the first `:` shows from `start:end` \n",
    "* second `:` determines whether you use every $x$ item. For example, `0:5:1` would be the first 5 items, every 1. `0:5:2` would be every other item of the first 5 items. `0:5:3` would be every 3rd item of the first 5, etc. "
   ]
  },
  {
   "cell_type": "code",
   "execution_count": 5,
   "id": "059a8602",
   "metadata": {},
   "outputs": [
    {
     "name": "stdout",
     "output_type": "stream",
     "text": [
      "First letter: PYTHON\n",
      "Last letter: N\n",
      "First three: PYT\n",
      "Middle: YTHO\n",
      "Every other letter: PTO\n",
      "Reversed: NOHTYP\n"
     ]
    }
   ],
   "source": [
    "word = \"PYTHON\"\n",
    "\n",
    "# Indexing (0-based)\n",
    "\n",
    "print(\"First letter:\", word)\n",
    "print(\"Last letter:\", word[-1])\n",
    "\n",
    "# Slicing\n",
    "\n",
    "print(\"First three:\", word[:3])     # characters 0,1,2\n",
    "print(\"Middle:\", word[1:5])         # characters 1..4\n",
    "print(\"Every other letter:\", word[0:6:2])\n",
    "\n",
    "# Reverse a string using slicing\n",
    "\n",
    "print(\"Reversed:\", word[::-1])"
   ]
  },
  {
   "cell_type": "markdown",
   "id": "56b82ca9",
   "metadata": {},
   "source": [
    "## Concatenation and repetition\n",
    "We can combine (concatenate) strings with `+`. Later you'll also see `.join()`. Multiplying repeats the string"
   ]
  },
  {
   "cell_type": "code",
   "execution_count": 6,
   "id": "e9345c64",
   "metadata": {},
   "outputs": [
    {
     "name": "stdout",
     "output_type": "stream",
     "text": [
      "Combo: icecream\n",
      "Echo: lalalala\n"
     ]
    }
   ],
   "source": [
    "first = \"ice\"\n",
    "second = \"cream\"\n",
    "combo = first + second\n",
    "echo = \"la\" * 4\n",
    "\n",
    "print(\"Combo:\", combo)\n",
    "print(\"Echo:\", echo)"
   ]
  },
  {
   "cell_type": "markdown",
   "id": "7bee154a",
   "metadata": {},
   "source": [
    "## String Methods \n",
    "Run the string methods below. What does each one do?"
   ]
  },
  {
   "cell_type": "code",
   "execution_count": null,
   "id": "0ec61337",
   "metadata": {},
   "outputs": [
    {
     "name": "stdout",
     "output_type": "stream",
     "text": [
      "Original: '  Hello, World!  '\n",
      "Lower:   hello, world!  \n",
      "Upper:   HELLO, WORLD!  \n",
      "Title:   Hello, World!  \n",
      "Strip: Hello, World!\n",
      "Replace:   Hello, Friends!  \n",
      "Startswith '  He': True\n",
      "Endswith '!  ': True\n"
     ]
    }
   ],
   "source": [
    "text = \"  Hello, World!  \"\n",
    "\n",
    "print(\"Original:\", repr(text))\n",
    "print(\"Lower:\", text.lower())\n",
    "print(\"Upper:\", text.upper())\n",
    "print(\"Title:\", text.title())\n",
    "print(\"Strip:\", text.strip())         #\n",
    "print(\"Replace:\", text.replace(\"World\", \"Friends\"))\n",
    "print(\"Startswith '  He':\", text.startswith(\"  He\"))\n",
    "print(\"Endswith '!  ':\", text.endswith(\"!  \"))"
   ]
  },
  {
   "cell_type": "code",
   "execution_count": 12,
   "id": "b8e9066a",
   "metadata": {},
   "outputs": [
    {
     "name": "stdout",
     "output_type": "stream",
     "text": [
      "Split: ['Hello', 'World!']\n",
      "Joined: Hello & World!\n"
     ]
    }
   ],
   "source": [
    "# look at this one\n",
    "words = text.strip().split(\", \")\n",
    "print(\"Split:\", words)\n",
    "joined = \" & \".join(words)\n",
    "print(\"Joined:\", joined)"
   ]
  },
  {
   "cell_type": "code",
   "execution_count": null,
   "id": "eec6f9a4",
   "metadata": {},
   "outputs": [],
   "source": [
    "# a few more \n",
    "# finding things\n",
    "\n",
    "phrase = \"chicken nuggets should challenge the champion\"\n",
    "print(\"find('ch'):\", phrase.find(\"ch\"))     # first index or -1 if not found\n",
    "print(\"count('cha'):\", phrase.count(\"cha\"))     # how many times\n",
    "print(\"'gge' in phrase:\", \"gge\" in phrase)\n",
    "\n",
    "# checking characters\n",
    "\n",
    "code = \"Hello123\"\n",
    "print(\"isalnum:\", code.isalnum())   # letters or numbers only?\n",
    "print(\"isalpha:\", code.isalpha())   # letters only?\n",
    "print(\"isdigit:\", \"2025\".isdigit()) # digits only?\n",
    "print(\"islower:\", \"hello\".islower())\n",
    "print(\"isupper:\", \"YELL\".isupper())"
   ]
  },
  {
   "cell_type": "markdown",
   "id": "811c3354",
   "metadata": {},
   "source": [
    "# Exercises"
   ]
  },
  {
   "cell_type": "markdown",
   "id": "3183a935",
   "metadata": {},
   "source": [
    "## 1) Quick warm up\n",
    "- Change \"tHiS iS GoOfY\" into neat title case using a method, then also make it all lowercase. First \"This Is Goofy\", second \"this is goofy\".\n",
    "- In the phrase \"pizza party\", count how many times \"p\" appears.\n",
    "- Split \"apples,bananas,grapes\" into a list using split with the right separator\n",
    "- Join [\"A\", \"B\", \"C\"] into \"A-B-C\""
   ]
  },
  {
   "cell_type": "code",
   "execution_count": null,
   "id": "9680ae74",
   "metadata": {},
   "outputs": [],
   "source": [
    "a1 = \"tHiS iS GoOfY\"\n",
    "# your code here\n",
    "\n",
    "# next\n",
    "a2 = \"pissa party\"\n",
    "\n",
    "# code here!\n",
    "\n",
    "# next\n",
    "a3 = \"apples,bananas,grapes\"\n",
    "\n",
    "# code here!\n",
    "\n",
    "# last\n",
    "a4 = [\"A\", \"B\", \"C\"]\n",
    "\n",
    "# code here!"
   ]
  },
  {
   "cell_type": "markdown",
   "id": "da6950b4",
   "metadata": {},
   "source": [
    "## 2) shuffling letters\n",
    "Shuffle the inside letters of words while keeping first and last letter the same. This often remains readable to humans!"
   ]
  },
  {
   "cell_type": "code",
   "execution_count": null,
   "id": "65176bf7",
   "metadata": {},
   "outputs": [
    {
     "ename": "SyntaxError",
     "evalue": "invalid syntax (3977211906.py, line 18)",
     "output_type": "error",
     "traceback": [
      "\u001b[1;36m  Cell \u001b[1;32mIn[16], line 18\u001b[1;36m\u001b[0m\n\u001b[1;33m    s2 =\u001b[0m\n\u001b[1;37m         ^\u001b[0m\n\u001b[1;31mSyntaxError\u001b[0m\u001b[1;31m:\u001b[0m invalid syntax\n"
     ]
    }
   ],
   "source": [
    "import random\n",
    "\n",
    "def scramble_word(w):\n",
    "    if len(w) <= 3:\n",
    "        return w\n",
    "    middle = None # TODO: get the middle of the word and convert it to a list\n",
    "    random.shuffle(middle)\n",
    "    return None # TODO: combine the first, scrambled middle, and last letters\n",
    "\n",
    "def scramble_sentence(s):\n",
    "    # Keep punctuation attached simply by splitting on spaces\n",
    "    parts = None # TODO: split the sentence by the spaces \n",
    "    scrambled = None # TODO: scramble each word in the sentence\n",
    "    return \" \".join(scrambled)\n",
    "\n",
    "random.seed(7)  # for repeatable results\n",
    "s1 = \"Sometimes Tim enjoys chicken nuggets while she sells shells by the seashore.\"\n",
    "s2 = \"\" # make your own\n",
    "print(scramble_sentence(s1))\n",
    "print(scramble_sentence(s2))"
   ]
  },
  {
   "cell_type": "code",
   "execution_count": null,
   "id": "714b9a5c",
   "metadata": {},
   "outputs": [],
   "source": []
  }
 ],
 "metadata": {
  "kernelspec": {
   "display_name": "pyfromscratch",
   "language": "python",
   "name": "python3"
  },
  "language_info": {
   "codemirror_mode": {
    "name": "ipython",
    "version": 3
   },
   "file_extension": ".py",
   "mimetype": "text/x-python",
   "name": "python",
   "nbconvert_exporter": "python",
   "pygments_lexer": "ipython3",
   "version": "3.10.4"
  }
 },
 "nbformat": 4,
 "nbformat_minor": 5
}
