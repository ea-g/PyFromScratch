{
 "cells": [
  {
   "cell_type": "markdown",
   "id": "3017ed6f",
   "metadata": {},
   "source": [
    "# Challenge Problems  \n",
    "Below are a few challenge problems from `leetcode`. Use your knowledge from the `strings` and `sets` lessons to solve them!"
   ]
  },
  {
   "cell_type": "markdown",
   "id": "d9e6ea0a",
   "metadata": {},
   "source": [
    "## Contains Duplicates\n",
    "Given an integer array nums, return true if any value appears at least twice in the array, and return false if every element is distinct.\n",
    "\n",
    " \n",
    "\n",
    "**Example 1:**\n",
    "\n",
    "Input: `nums = [1,2,3,1]`\n",
    "\n",
    "Output: `true`\n",
    "\n",
    "Explanation:\n",
    "\n",
    "The element 1 occurs at the indices 0 and 3.\n",
    "\n",
    "**Example 2:**\n",
    "\n",
    "Input: `nums = [1,2,3,4]`\n",
    "\n",
    "Output: `false`  \n",
    "\n",
    "Explanation:\n",
    "\n",
    "All elements are distinct.\n",
    "\n",
    "**Example 3:**\n",
    "\n",
    "Input: `nums = [1,1,1,3,3,4,3,2,4,2]`\n",
    "\n",
    "Output: `true`\n",
    "\n",
    " \n",
    "\n",
    "Constraints:  \n",
    "* `1 <= nums.length <= 105`  \n",
    "* `-109 <= nums[i] <= 109`\n",
    "\n"
   ]
  },
  {
   "cell_type": "code",
   "execution_count": null,
   "id": "524b3726",
   "metadata": {},
   "outputs": [],
   "source": [
    "from typing import List\n",
    "\n",
    "def containsDuplicate(nums: List[int]) -> bool:\n",
    "    pass"
   ]
  },
  {
   "cell_type": "code",
   "execution_count": null,
   "id": "b934f127",
   "metadata": {},
   "outputs": [],
   "source": [
    "nums1 = [1, 2, 3, 1]\n",
    "nums2 = [1, 2, 3, 4]\n",
    "nums3 = [1,1,1,3,3,4,3,2,4,2]\n",
    "\n",
    "assert containsDuplicate(nums1), \"Failed test #1\"\n",
    "assert not containsDuplicate(nums2), \"Failed test #2\"\n",
    "assert containsDuplicate(nums3), \"Failed test #3\""
   ]
  },
  {
   "cell_type": "markdown",
   "id": "3369e27a",
   "metadata": {},
   "source": []
  },
  {
   "cell_type": "code",
   "execution_count": null,
   "id": "10a10243",
   "metadata": {},
   "outputs": [],
   "source": [
    "# scratch cell"
   ]
  },
  {
   "cell_type": "markdown",
   "id": "a8a4da79",
   "metadata": {},
   "source": [
    "## Valid Palindrome  \n",
    "A phrase is a **palindrome** if, after converting all uppercase letters into lowercase letters and removing all non-alphanumeric characters, it reads the same forward and backward. Alphanumeric characters include letters and numbers.\n",
    "\n",
    "Given a string `s`, return `true` if it is a palindrome, or `false` otherwise.\n",
    "\n",
    " \n",
    "\n",
    "**Example 1:**  \n",
    "\n",
    "Input: `s = \"A man, a plan, a canal: Panama\"`  \n",
    "Output: `true`  \n",
    "Explanation: \"amanaplanacanalpanama\" is a palindrome.  \n",
    "\n",
    "**Example 2:**  \n",
    "\n",
    "Input: `s = \"race a car\"`  \n",
    "Output: `false`  \n",
    "Explanation: \"raceacar\" is not a palindrome.  \n",
    "\n",
    "**Example 3:**  \n",
    "\n",
    "Input: `s = \" \"`  \n",
    "Output: `true`  \n",
    "Explanation: s is an empty string \"\" after removing non-alphanumeric characters.  \n",
    "Since an empty string reads the same forward and backward, it is a palindrome.  \n",
    "\n",
    " \n",
    "\n",
    "**Constraints:**\n",
    "\n",
    "* `1 <= s.length <= 2 * 105`  \n",
    "* `s consists only of printable ASCII characters.`\n",
    "\n"
   ]
  },
  {
   "cell_type": "code",
   "execution_count": 7,
   "id": "fc725b37",
   "metadata": {},
   "outputs": [],
   "source": [
    "def isPalindrome(s: str) -> bool:\n",
    "    pass"
   ]
  },
  {
   "cell_type": "code",
   "execution_count": null,
   "id": "a8cc0564",
   "metadata": {},
   "outputs": [],
   "source": [
    "s1 = \"A man, a plan, a canal: Panama\"\n",
    "s2 = \"race a car\"\n",
    "s3 = \" \"\n",
    "\n",
    "assert isPalindrome(s1), \"Failed test #1\"\n",
    "assert not isPalindrome(s2), \"Failed test #2\"\n",
    "assert isPalindrome(s3), \"Failed test #3\""
   ]
  },
  {
   "cell_type": "code",
   "execution_count": null,
   "id": "469e3448",
   "metadata": {},
   "outputs": [],
   "source": [
    "# scratch cell"
   ]
  },
  {
   "cell_type": "markdown",
   "id": "866548cd",
   "metadata": {},
   "source": [
    "## Reverse Vowels  \n",
    "Given a string `s`, reverse only all the vowels in the string and return it.\n",
    "\n",
    "The vowels are `'a'`, `'e'`, `'i'`, `'o'`, and `'u'`, and they can appear in **both lower and upper cases, more than once**.\n",
    "\n",
    " \n",
    "\n",
    "**Example 1:**  \n",
    "\n",
    "Input: `s = \"IceCreAm\"`\n",
    "\n",
    "Output: `\"AceCreIm\"`  \n",
    "\n",
    "Explanation:\n",
    "\n",
    "The vowels in `s` are `['I', 'e', 'e', 'A']`. On reversing the vowels, `s` becomes \"AceCreIm\".\n",
    "\n",
    "**Example 2:**  \n",
    "\n",
    "Input: `s = \"leetcode\"`\n",
    "\n",
    "Output: `\"leotcede\"`\n",
    "\n",
    " \n",
    "\n",
    "Constraints:\n",
    "\n",
    "* `1 <= s.length <= 3 * 105`  \n",
    "* `s` consist of printable ASCII characters.\n",
    "\n"
   ]
  },
  {
   "cell_type": "code",
   "execution_count": 8,
   "id": "a6da5f1d",
   "metadata": {},
   "outputs": [],
   "source": [
    "def reverseVowels(s: str) -> str: \n",
    "    pass"
   ]
  },
  {
   "cell_type": "code",
   "execution_count": null,
   "id": "42fad178",
   "metadata": {},
   "outputs": [],
   "source": [
    "s1 = \"IceCreAm\"\n",
    "s2 = \"leetcode\"\n",
    "\n",
    "assert reverseVowels(s1) == \"AceCreIm\", \"Failed test #1\"\n",
    "assert reverseVowels(s2) == \"leotcede\", \"Failed test #2\""
   ]
  },
  {
   "cell_type": "code",
   "execution_count": null,
   "id": "0c407d47",
   "metadata": {},
   "outputs": [],
   "source": [
    "# scratch cell"
   ]
  },
  {
   "cell_type": "markdown",
   "id": "b4d3f7ed",
   "metadata": {},
   "source": []
  },
  {
   "cell_type": "code",
   "execution_count": null,
   "id": "06294f63",
   "metadata": {},
   "outputs": [],
   "source": []
  }
 ],
 "metadata": {
  "kernelspec": {
   "display_name": "pyfromscratch",
   "language": "python",
   "name": "python3"
  },
  "language_info": {
   "codemirror_mode": {
    "name": "ipython",
    "version": 3
   },
   "file_extension": ".py",
   "mimetype": "text/x-python",
   "name": "python",
   "nbconvert_exporter": "python",
   "pygments_lexer": "ipython3",
   "version": "3.10.4"
  }
 },
 "nbformat": 4,
 "nbformat_minor": 5
}
