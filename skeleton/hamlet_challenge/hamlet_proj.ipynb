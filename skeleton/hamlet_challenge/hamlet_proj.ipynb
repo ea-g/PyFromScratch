{
 "cells": [
  {
   "cell_type": "markdown",
   "id": "2b874e48",
   "metadata": {},
   "source": [
    "# Hamming out  \n",
    "Prince Hamlet has a skull for a coworker, a ghost for middle management, and a vocabulary so frilly it needs its own dressing room. In a play where daggers are mostly metaphors and everyone’s feelings arrive in iambic pentameter, the real drama might be the words themselves.  \n",
    "\n",
    "Today’s goal: spy on Shakespeare’s word choices like literary detectives, see which characters hog the spotlight, and find out just how far into the show Hamlet finally launches the “To be, or not to be” speech. By the end, there will be fewer mysteries, more counts, and at least one triumphant “Aha!”—hopefully with fewer ghosts."
   ]
  },
  {
   "cell_type": "markdown",
   "id": "ba70bbdd",
   "metadata": {},
   "source": [
    "<div align=\"center\"> <img src=\"https://media1.giphy.com/media/v1.Y2lkPTc5MGI3NjExYTlpbThmbHF0enAxYXFnY3U4YzZreGVkaDNjbm56bHNvNWh0Y205ayZlcD12MV9pbnRlcm5hbF9naWZfYnlfaWQmY3Q9Zw/RZQIIUO9qrTRC/giphy.gif\" alt=\"ham\"> </div>"
   ]
  },
  {
   "cell_type": "markdown",
   "id": "8cf452e7",
   "metadata": {},
   "source": [
    "# Goals  \n",
    "1. Find the most common \"words\" used by Shakespeare in Hamlet. \n",
    "2. Find out which character is mentioned the most  \n",
    "3. Figure out how far into the text the famous \"To be, or not to be\" speech is given"
   ]
  },
  {
   "cell_type": "markdown",
   "id": "99111115",
   "metadata": {},
   "source": [
    "<div align=\"center\"> <img src=\"https://media0.giphy.com/media/v1.Y2lkPTc5MGI3NjExeWM0aXdmZG13ajU3NW5mc2E4MHlsMmJldHp6Ym4xN283aDVuYTVsdSZlcD12MV9pbnRlcm5hbF9naWZfYnlfaWQmY3Q9Zw/PpaTrf7NdB4sKXBNwl/giphy.gif\" alt=\"ham\"> </div>"
   ]
  },
  {
   "cell_type": "markdown",
   "id": "aadd54d6",
   "metadata": {},
   "source": [
    "# Getting started  \n",
    "Reading files in Python is straightforward and powerful: use the built‑in open with a context manager to read everything at once, or loop line by line for streaming and parsing. Keeping the file in the same folder as the notebook simplifies paths; otherwise, use pathlib for robust, cross‑platform paths.  "
   ]
  },
  {
   "cell_type": "markdown",
   "id": "c73a38f9",
   "metadata": {},
   "source": [
    "<div align=\"center\"> <img src=\"https://media0.giphy.com/media/v1.Y2lkPTc5MGI3NjExZW1ocTF2c3Jva3pveXF2dG12Z2FxaGlxZ2xpenppdHBqemdsdTFkdSZlcD12MV9pbnRlcm5hbF9naWZfYnlfaWQmY3Q9Zw/NFA61GS9qKZ68/giphy.gif\" alt=\"ham\"> </div>"
   ]
  },
  {
   "cell_type": "markdown",
   "id": "3275a2e7",
   "metadata": {},
   "source": [
    "## Reading the whole file at once  \n",
    "* Best when the file is small enough to fit in memory comfortably.  \n",
    "* The with block automatically closes the file.\n"
   ]
  },
  {
   "cell_type": "code",
   "execution_count": 11,
   "id": "1f8dff86",
   "metadata": {},
   "outputs": [
    {
     "name": "stdout",
     "output_type": "stream",
     "text": [
      "<class 'str'>\n",
      "﻿The Project Gutenberg eBook of Hamlet\n",
      "    \n",
      "This ebook is for the use of anyone anywhere in the United States and\n",
      "most other parts of the world at no cost and with almost no restrictions\n",
      "whatsoever. You may copy it, give it away or re-use it under the terms\n",
      "of the Project Gutenberg License included  ...\n",
      "\n",
      "Total characters: 185760\n"
     ]
    }
   ],
   "source": [
    "with open(\"hamlet.txt\", \"r\", encoding=\"utf-8\") as f:\n",
    "    text = f.read()\n",
    "\n",
    "print(type(text))\n",
    "print(text[:300], \"...\\n\")\n",
    "print(f\"Total characters: {len(text)}\")"
   ]
  },
  {
   "cell_type": "markdown",
   "id": "4fd3666f",
   "metadata": {},
   "source": [
    "## Reading line by line  \n",
    "* Useful for very large files or when processing sequentially.  \n",
    "* Each iteration returns the next line, including the newline at the end.\n"
   ]
  },
  {
   "cell_type": "code",
   "execution_count": 18,
   "id": "9873c3ee",
   "metadata": {},
   "outputs": [
    {
     "name": "stdout",
     "output_type": "stream",
     "text": [
      "'\\ufeffThe Project Gutenberg eBook of Hamlet\\n'\n",
      "'    \\n'\n",
      "'This ebook is for the use of anyone anywhere in the United States and\\n'\n",
      "'most other parts of the world at no cost and with almost no restrictions\\n'\n",
      "'whatsoever. You may copy it, give it away or re-use it under the terms\\n'\n"
     ]
    }
   ],
   "source": [
    "c = 0\n",
    "with open(\"hamlet.txt\", \"r\", encoding=\"utf-8\") as f:\n",
    "    for line in f:\n",
    "        c+=1 \n",
    "        if c <= 5: \n",
    "            print(repr(line)) # repr shows newline characters clearly\n",
    "        if c > 5:\n",
    "            break"
   ]
  },
  {
   "cell_type": "markdown",
   "id": "683de937",
   "metadata": {},
   "source": [
    "## Reading into a list of lines: \n",
    "* f.readlines() loads all lines into a list at once.  \n",
    "* Equivalent to list(f), but explicit and sometimes clearer.\n"
   ]
  },
  {
   "cell_type": "code",
   "execution_count": 10,
   "id": "f1b089f8",
   "metadata": {},
   "outputs": [
    {
     "name": "stdout",
     "output_type": "stream",
     "text": [
      "<class 'list'> with 5391 lines\n",
      "First 3 lines as raw strings:\n",
      "'\\ufeffThe Project Gutenberg eBook of Hamlet\\n'\n",
      "'    \\n'\n",
      "'This ebook is for the use of anyone anywhere in the United States and\\n'\n"
     ]
    }
   ],
   "source": [
    "with open(\"hamlet.txt\", \"r\", encoding=\"utf-8\") as f:  \n",
    "    lines = f.readlines()\n",
    "\n",
    "print(type(lines), \"with\", len(lines), \"lines\")\n",
    "print(\"First 3 lines as raw strings:\")\n",
    "for ln in lines[:3]:\n",
    "    print(repr(ln))"
   ]
  },
  {
   "cell_type": "markdown",
   "id": "b5f0c98b",
   "metadata": {},
   "source": [
    "## Stripping and parsing while streaming: \n",
    "* strip removes trailing newline characters. \n",
    "* Split lines into fields; ignore blanks; accumulate parsed results.\n"
   ]
  },
  {
   "cell_type": "code",
   "execution_count": 15,
   "id": "9646fa90",
   "metadata": {},
   "outputs": [
    {
     "data": {
      "text/plain": [
       "['\\ufeffThe',\n",
       " 'Project',\n",
       " 'Gutenberg',\n",
       " 'eBook',\n",
       " 'of',\n",
       " 'Hamlet',\n",
       " 'This',\n",
       " 'ebook',\n",
       " 'is',\n",
       " 'for',\n",
       " 'the',\n",
       " 'use',\n",
       " 'of',\n",
       " 'anyone',\n",
       " 'anywhere',\n",
       " 'in',\n",
       " 'the',\n",
       " 'United',\n",
       " 'States',\n",
       " 'and',\n",
       " 'most',\n",
       " 'other',\n",
       " 'parts',\n",
       " 'of',\n",
       " 'the',\n",
       " 'world',\n",
       " 'at',\n",
       " 'no',\n",
       " 'cost',\n",
       " 'and',\n",
       " 'with',\n",
       " 'almost',\n",
       " 'no',\n",
       " 'restrictions',\n",
       " 'whatsoever.',\n",
       " 'You',\n",
       " 'may',\n",
       " 'copy',\n",
       " 'it,',\n",
       " 'give',\n",
       " 'it',\n",
       " 'away',\n",
       " 'or',\n",
       " 're-use',\n",
       " 'it',\n",
       " 'under',\n",
       " 'the',\n",
       " 'terms',\n",
       " 'of',\n",
       " 'the',\n",
       " 'Project',\n",
       " 'Gutenberg',\n",
       " 'License',\n",
       " 'included',\n",
       " 'with',\n",
       " 'this',\n",
       " 'ebook',\n",
       " 'or',\n",
       " 'online',\n",
       " 'at',\n",
       " 'www.gutenberg.org.',\n",
       " 'If',\n",
       " 'you',\n",
       " 'are',\n",
       " 'not',\n",
       " 'located',\n",
       " 'in',\n",
       " 'the',\n",
       " 'United',\n",
       " 'States,',\n",
       " 'you',\n",
       " 'will',\n",
       " 'have',\n",
       " 'to',\n",
       " 'check',\n",
       " 'the',\n",
       " 'laws',\n",
       " 'of',\n",
       " 'the',\n",
       " 'country',\n",
       " 'where',\n",
       " 'you',\n",
       " 'are',\n",
       " 'located',\n",
       " 'before',\n",
       " 'using',\n",
       " 'this',\n",
       " 'eBook.',\n",
       " 'Title:',\n",
       " 'Hamlet',\n",
       " 'Author:',\n",
       " 'William',\n",
       " 'Shakespeare',\n",
       " 'Release',\n",
       " 'date:',\n",
       " 'July',\n",
       " '1,',\n",
       " '2000',\n",
       " '[eBook',\n",
       " '#2265]']"
      ]
     },
     "execution_count": 15,
     "metadata": {},
     "output_type": "execute_result"
    }
   ],
   "source": [
    "words = []\n",
    "with open(\"hamlet.txt\", \"r\", encoding=\"utf-8\") as f: \n",
    "    for line in f:\n",
    "        cleaned = line.strip()\n",
    "        if not cleaned:\n",
    "            continue\n",
    "        # simple tokenization on whitespace\n",
    "        parts = cleaned.split()\n",
    "        words.extend(parts)\n",
    "words[0:100]"
   ]
  },
  {
   "cell_type": "markdown",
   "id": "45afe703",
   "metadata": {},
   "source": [
    "# Hamletting  \n",
    "To begin, we should get rid of the header on our text. The header ends with a line having \"======\" in it. Find out which line that is and cutoff everything before. You can use slicing e.g., `my_list[100:]` to get every line from 100 onwards. "
   ]
  },
  {
   "cell_type": "code",
   "execution_count": null,
   "id": "cd7bcf41",
   "metadata": {},
   "outputs": [],
   "source": [
    "# "
   ]
  },
  {
   "cell_type": "markdown",
   "id": "7a66311e",
   "metadata": {},
   "source": [
    "## Which words are the most common?  \n",
    "Outline of steps:\n",
    "1. Make a function to remove any punctuation or problematic characters. \\* *Hint--you've done something similar previously...  \n",
    "2. Split the text into words. We'll consider something a word if it's surrounded by spaces. \n",
    "3. Clean up the words with your function. You'll also want to make everything lower or upper case. \n",
    "3. Count each unique word. \\* *Hint--take a look at the [defaultdict](https://docs.python.org/3/library/collections.html#collections.defaultdict) in the collections package. \n",
    "4. Sort your word counts by frequency and show the top 10  "
   ]
  },
  {
   "cell_type": "code",
   "execution_count": null,
   "id": "84dfeef9",
   "metadata": {},
   "outputs": [],
   "source": []
  },
  {
   "cell_type": "code",
   "execution_count": null,
   "id": "8f8ed4a2",
   "metadata": {},
   "outputs": [],
   "source": []
  },
  {
   "cell_type": "markdown",
   "id": "6263362c",
   "metadata": {},
   "source": [
    "## Which character is mentioned the most? \n",
    "Take a look through your output from the last section and find the first character. A list can be found [here](https://www.sparknotes.com/shakespeare/hamlet/characters/). "
   ]
  },
  {
   "cell_type": "code",
   "execution_count": null,
   "id": "1bda5543",
   "metadata": {},
   "outputs": [],
   "source": []
  },
  {
   "cell_type": "code",
   "execution_count": null,
   "id": "d5913355",
   "metadata": {},
   "outputs": [],
   "source": []
  },
  {
   "cell_type": "markdown",
   "id": "28ee83a0",
   "metadata": {},
   "source": []
  }
 ],
 "metadata": {
  "kernelspec": {
   "display_name": "pyfromscratch",
   "language": "python",
   "name": "python3"
  },
  "language_info": {
   "codemirror_mode": {
    "name": "ipython",
    "version": 3
   },
   "file_extension": ".py",
   "mimetype": "text/x-python",
   "name": "python",
   "nbconvert_exporter": "python",
   "pygments_lexer": "ipython3",
   "version": "3.10.4"
  }
 },
 "nbformat": 4,
 "nbformat_minor": 5
}
